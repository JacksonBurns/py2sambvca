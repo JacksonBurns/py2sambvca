{
 "cells": [
  {
   "cell_type": "code",
   "execution_count": null,
   "id": "3c0c9366",
   "metadata": {},
   "outputs": [],
   "source": [
    "from py2sambvca import p2s\n",
    "import numpy as np"
   ]
  },
  {
   "cell_type": "code",
   "execution_count": null,
   "id": "a439ece3",
   "metadata": {},
   "outputs": [],
   "source": [
    "nhc_p2s = p2s(\n",
    "    xyz_filepath=\"../test/data/nhc.xyz\",\n",
    "    sphere_center_atom_ids=[22],\n",
    "    z_ax_atom_ids=[5],\n",
    "    xz_plane_atoms_ids=[1],\n",
    "    atoms_to_delete_ids=None,\n",
    "    sphere_radius=3.5,\n",
    "    displacement=0.0,\n",
    "    mesh_size=0.10,\n",
    "    remove_H=1,\n",
    "    orient_z=1,\n",
    "    write_surf_files=1,\n",
    ")"
   ]
  },
  {
   "cell_type": "code",
   "execution_count": null,
   "id": "dca9dc3d",
   "metadata": {},
   "outputs": [],
   "source": [
    "nhc_p2s.path_to_sambvcax"
   ]
  },
  {
   "cell_type": "code",
   "execution_count": null,
   "id": "921165fd",
   "metadata": {},
   "outputs": [],
   "source": [
    "output = nhc_p2s.run()"
   ]
  },
  {
   "cell_type": "code",
   "execution_count": null,
   "id": "4c4dc6fb",
   "metadata": {},
   "outputs": [],
   "source": [
    "nhc_p2s.total_results"
   ]
  },
  {
   "cell_type": "code",
   "execution_count": null,
   "id": "8f2ed0c7",
   "metadata": {},
   "outputs": [],
   "source": [
    "def run_loop(file_path, max_radius=10, min_radius=2.5, n_steps=10):\n",
    "    output_dict = {}\n",
    "\n",
    "    for r in np.linspace(min_radius, max_radius, n_steps):\n",
    "\n",
    "        tmp_run = p2s(\n",
    "            xyz_filepath=file_path,\n",
    "            sphere_center_atom_ids=[22],\n",
    "            z_ax_atom_ids=[5],\n",
    "            xz_plane_atoms_ids=[1],\n",
    "            path_to_sambvcax=\"./sambvca21.x\",\n",
    "            atoms_to_delete_ids=None,\n",
    "            sphere_radius=r,\n",
    "            displacement=0.0,\n",
    "            mesh_size=0.10,\n",
    "            remove_H=1,\n",
    "            orient_z=1,\n",
    "            write_surf_files=1,\n",
    "        )\n",
    "\n",
    "        # try:\n",
    "        tmp_run.run()\n",
    "        print(tmp_run.total_results)\n",
    "        output_dict[r] = tmp_run.total_results\n",
    "\n",
    "        #    print(f\"A Type error occurred for radius {r}, most likely there exists no free volume because the radius is too small. This radius will be skipped.\")\n",
    "\n",
    "    return output_dict\n",
    "\n",
    "\n",
    "def print_output(output, label):\n",
    "    r = output.keys()\n",
    "\n",
    "    y = [value[label] for value in output.values()]\n",
    "    print(y)"
   ]
  },
  {
   "cell_type": "code",
   "execution_count": null,
   "id": "412ec06c",
   "metadata": {},
   "outputs": [],
   "source": [
    "test_output = run_loop(\"test_data/nhc.xyz\")"
   ]
  },
  {
   "cell_type": "code",
   "execution_count": null,
   "id": "facfda13",
   "metadata": {},
   "outputs": [],
   "source": [
    "print_output(test_output, \"buried_volume\")"
   ]
  },
  {
   "cell_type": "code",
   "execution_count": null,
   "id": "6d90f14a",
   "metadata": {},
   "outputs": [],
   "source": []
  }
 ],
 "metadata": {
  "interpreter": {
   "hash": "213a256e8329d40742404b9679437c3b390338f6625e649a654953287e0b5d38"
  },
  "kernelspec": {
   "display_name": "Python 3.9.0 ('py2sambvca')",
   "language": "python",
   "name": "python3"
  },
  "language_info": {
   "codemirror_mode": {
    "name": "ipython",
    "version": 3
   },
   "file_extension": ".py",
   "mimetype": "text/x-python",
   "name": "python",
   "nbconvert_exporter": "python",
   "pygments_lexer": "ipython3",
   "version": "3.9.0"
  }
 },
 "nbformat": 4,
 "nbformat_minor": 5
}
