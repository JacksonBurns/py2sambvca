{
 "cells": [
  {
   "cell_type": "markdown",
   "id": "ddd653fa",
   "metadata": {},
   "source": [
    "# Introduction"
   ]
  },
  {
   "cell_type": "code",
   "execution_count": null,
   "id": "3c0c9366",
   "metadata": {},
   "outputs": [],
   "source": [
    "from py2sambvca import p2s\n",
    "\n",
    "import numpy as np"
   ]
  },
  {
   "cell_type": "markdown",
   "id": "f71828d3",
   "metadata": {},
   "source": [
    "Potential setup for the program.\n",
    "At this point no graphical interface is implemented.\n",
    "\n",
    "For `remove_H`, `orient_z` and `write_surf_files` only the values `0` and `1` are possible "
   ]
  },
  {
   "cell_type": "code",
   "execution_count": null,
   "id": "a439ece3",
   "metadata": {},
   "outputs": [],
   "source": [
    "nhc_p2s = p2s(\n",
    "    xyz_filepath=\"../test/data/nhc.xyz\",\n",
    "    sphere_center_atom_ids=[22],\n",
    "    z_ax_atom_ids=[5],\n",
    "    xz_plane_atoms_ids=[1],\n",
    "    atoms_to_delete_ids=None,\n",
    "    sphere_radius=3.5,\n",
    "    displacement=0.0,\n",
    "    mesh_size=0.10,\n",
    "    remove_H=True,\n",
    "    orient_z=True,\n",
    "    write_surf_files=True,\n",
    ")"
   ]
  },
  {
   "cell_type": "markdown",
   "id": "798e385f",
   "metadata": {},
   "source": [
    "The `run_range` function is designed to quickly scan a range of radii values."
   ]
  },
  {
   "cell_type": "code",
   "execution_count": null,
   "id": "dca9dc3d",
   "metadata": {},
   "outputs": [],
   "source": [
    "df_test = nhc_p2s.run_range(2, 4)"
   ]
  },
  {
   "cell_type": "code",
   "execution_count": null,
   "id": "921165fd",
   "metadata": {},
   "outputs": [],
   "source": [
    "df_test.plot(\"r\", \"buried_volume\")"
   ]
  }
 ],
 "metadata": {
  "interpreter": {
   "hash": "213a256e8329d40742404b9679437c3b390338f6625e649a654953287e0b5d38"
  },
  "kernelspec": {
   "display_name": "Python 3.9.0 ('py2sambvca')",
   "language": "python",
   "name": "python3"
  },
  "language_info": {
   "codemirror_mode": {
    "name": "ipython",
    "version": 3
   },
   "file_extension": ".py",
   "mimetype": "text/x-python",
   "name": "python",
   "nbconvert_exporter": "python",
   "pygments_lexer": "ipython3",
   "version": "3.9.0"
  }
 },
 "nbformat": 4,
 "nbformat_minor": 5
}
